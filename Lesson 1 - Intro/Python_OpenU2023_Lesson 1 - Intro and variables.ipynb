{
 "cells": [
  {
   "cell_type": "markdown",
   "metadata": {},
   "source": [
    "# Introduction to Programming in Python - OpenU 2023\n",
    "# **Class 1**"
   ]
  },
  {
   "cell_type": "markdown",
   "metadata": {},
   "source": [
    "Welcome to the course.\n",
    "\n",
    "This is a *Jupyter Notebook*. It is an IDE (Integrated Development Environment) used to share, describe and run code in the same interface. It is made up of \"cells\" that are either rich text (like this cell), or cells that can run code (like the one below)."
   ]
  },
  {
   "cell_type": "markdown",
   "metadata": {},
   "source": [
    "## 1. Some examples"
   ]
  },
  {
   "cell_type": "code",
   "execution_count": null,
   "metadata": {},
   "outputs": [],
   "source": [
    "# PRESS SHIFT+ENTER or CTRL+ENTER\n",
    "import time\n",
    "\n",
    "for letter in \"HI EVERYONE\":\n",
    "    print(letter, end=\"\")\n",
    "    time.sleep(.15)"
   ]
  },
  {
   "cell_type": "markdown",
   "metadata": {},
   "source": [
    "Jupyter Notebooks are especially useful for data analysis and scientific programming. You can have visualizations output from your code appearing inside the notebook."
   ]
  },
  {
   "cell_type": "code",
   "execution_count": null,
   "metadata": {},
   "outputs": [],
   "source": [
    "import matplotlib.pyplot as plt\n",
    "import numpy as np\n",
    "\n",
    "def simulate_covid_and_lockdown(init_num, baseR, days_num):\n",
    "\n",
    "    people = [init_num] \n",
    "    \n",
    "    for i, days in enumerate(range(1, days_num)):\n",
    "        \n",
    "        if people[i] > 20_000:\n",
    "            baseR = .9\n",
    "        \n",
    "        R = np.random.normal(baseR, .15, 1)\n",
    "        init_num = init_num * R\n",
    "        people = people + [int(init_num)]\n",
    "\n",
    "    days = list(range(days_num))\n",
    "    plt.plot(days, people, '-o')\n",
    "    plt.title('Number of infected by day, lockdown initiated after 20,000 infected')\n",
    "    plt.xlabel('# Days since ' + str(init_num) + ' persons infected')\n",
    "    plt.ylabel('# of people infected')\n",
    "    plt.show()  \n",
    "\n",
    "    #test run    \n",
    "simulate_covid_and_lockdown(10,1.3,42)   "
   ]
  },
  {
   "cell_type": "markdown",
   "metadata": {},
   "source": [
    "## 2. Let's get started"
   ]
  },
  {
   "cell_type": "markdown",
   "metadata": {},
   "source": [
    "### REPL\n",
    "When you initiate a piece of code in Python, it will go through the process of REPL:\\\n",
    "**R**ead **E**valuate **P**rint **L**oop"
   ]
  },
  {
   "cell_type": "code",
   "execution_count": null,
   "metadata": {},
   "outputs": [],
   "source": [
    "print(\"Hello, world\")\n"
   ]
  },
  {
   "cell_type": "markdown",
   "metadata": {},
   "source": [
    "### Errors\n",
    "Learning is (also) about making mistakes. Python returns Error Messages designed to help understand what \"went wrong\".\\\n",
    "Let's get to know how an error is structured, and some common errors."
   ]
  },
  {
   "cell_type": "code",
   "execution_count": null,
   "metadata": {},
   "outputs": [],
   "source": [
    "# Add documnetation\n",
    "print(Hello, world)"
   ]
  },
  {
   "cell_type": "code",
   "execution_count": null,
   "metadata": {},
   "outputs": [],
   "source": [
    "print(\"Hello, world)\n",
    "# End of Line"
   ]
  },
  {
   "cell_type": "markdown",
   "metadata": {},
   "source": [
    "### Variables\n",
    "Variables are \"names\" pointing to some bit of information (e.g., a numeric value, text).\n",
    "They are called \"variables\" because they can vary - change the information they store/point to."
   ]
  },
  {
   "cell_type": "code",
   "execution_count": null,
   "metadata": {},
   "outputs": [],
   "source": [
    "# This is not a variable\n",
    "# print(123)\n",
    "\n",
    "x = 123 # <-- This is a variable ('x')\n",
    "x = 321 # assignment\n",
    "\n",
    "print(x)"
   ]
  },
  {
   "cell_type": "code",
   "execution_count": null,
   "metadata": {},
   "outputs": [],
   "source": [
    "x = 1 + 2 + 3\n",
    "print(x)"
   ]
  },
  {
   "cell_type": "code",
   "execution_count": null,
   "metadata": {},
   "outputs": [],
   "source": [
    "#duck typing\n",
    "x1 = 'hello'\n",
    "print(x1)"
   ]
  },
  {
   "cell_type": "code",
   "execution_count": null,
   "metadata": {},
   "outputs": [],
   "source": [
    "type(x1) # integer"
   ]
  },
  {
   "cell_type": "markdown",
   "metadata": {},
   "source": [
    "It's considerred \"good practice\" to give your variables meaningful names."
   ]
  },
  {
   "cell_type": "code",
   "execution_count": null,
   "metadata": {},
   "outputs": [],
   "source": [
    "first_and_last_name = 'Marcus Aurelius'"
   ]
  },
  {
   "cell_type": "code",
   "execution_count": null,
   "metadata": {},
   "outputs": [],
   "source": [
    "print(first_and_last_name)"
   ]
  },
  {
   "cell_type": "code",
   "execution_count": null,
   "metadata": {},
   "outputs": [],
   "source": [
    "x = 1\n",
    "y = 2\n",
    "z = 3\n",
    "\n",
    "print(x + y + z)"
   ]
  },
  {
   "cell_type": "code",
   "execution_count": null,
   "metadata": {},
   "outputs": [],
   "source": [
    "# Python also makes it easy to assign multiple variables.\n",
    "x, y, z = 11, 222, 3333\n",
    "print(x, y, z)"
   ]
  },
  {
   "cell_type": "code",
   "execution_count": null,
   "metadata": {},
   "outputs": [],
   "source": [
    "# There is a \"shorthand\" for printing a variable's name and its value together\n",
    "print(f\"{x=}\", f\"{y=}\", f\"{z=}\")"
   ]
  },
  {
   "cell_type": "code",
   "execution_count": null,
   "metadata": {},
   "outputs": [],
   "source": [
    "# Some 'names' are reserved\n",
    "if = 1"
   ]
  },
  {
   "cell_type": "markdown",
   "metadata": {},
   "source": [
    "Some are not reserved, but its best not to use them\n"
   ]
  },
  {
   "cell_type": "code",
   "execution_count": null,
   "metadata": {},
   "outputs": [],
   "source": [
    "print(round(4.5))"
   ]
  },
  {
   "cell_type": "code",
   "execution_count": null,
   "metadata": {},
   "outputs": [],
   "source": [
    "round = 123\n",
    "print(round)"
   ]
  },
  {
   "cell_type": "code",
   "execution_count": null,
   "metadata": {},
   "outputs": [],
   "source": [
    "print(round(4.5))"
   ]
  },
  {
   "cell_type": "code",
   "execution_count": null,
   "metadata": {},
   "outputs": [],
   "source": [
    "print(round)"
   ]
  },
  {
   "cell_type": "markdown",
   "metadata": {},
   "source": [
    "### Variable types\n",
    "Python has 4 fundamental data types:\\\n",
    "Booleans\\\n",
    "Strings\\\n",
    "Integers\\\n",
    "Floats"
   ]
  },
  {
   "cell_type": "markdown",
   "metadata": {},
   "source": [
    "#### Strings and integers"
   ]
  },
  {
   "cell_type": "code",
   "execution_count": null,
   "metadata": {},
   "outputs": [],
   "source": [
    "name = 'haim'\n",
    "age = 21\n",
    "print(f'His name is {name} and he is {age} years old')"
   ]
  },
  {
   "cell_type": "code",
   "execution_count": null,
   "metadata": {},
   "outputs": [],
   "source": []
  },
  {
   "cell_type": "code",
   "execution_count": null,
   "metadata": {},
   "outputs": [],
   "source": [
    "x = '041836646'\n",
    "print(f'{x=}')\n",
    "y = int(x)\n",
    "print(f'{y=}')"
   ]
  },
  {
   "cell_type": "code",
   "execution_count": null,
   "metadata": {},
   "outputs": [],
   "source": [
    "print(type(x))\n",
    "print(type(y))"
   ]
  },
  {
   "cell_type": "code",
   "execution_count": null,
   "metadata": {},
   "outputs": [],
   "source": [
    "x = '000123'\n",
    "y = int(x)\n",
    "print(y)"
   ]
  },
  {
   "cell_type": "markdown",
   "metadata": {},
   "source": [
    "#### Floats and integers"
   ]
  },
  {
   "cell_type": "code",
   "execution_count": null,
   "metadata": {},
   "outputs": [],
   "source": [
    "x = 10.99999999999999\n",
    "y = int(x)\n",
    "print(x, y)\n",
    "#truncation"
   ]
  },
  {
   "cell_type": "code",
   "execution_count": null,
   "metadata": {},
   "outputs": [],
   "source": [
    ".1 + .2"
   ]
  },
  {
   "cell_type": "markdown",
   "metadata": {
    "tags": []
   },
   "source": [
    "#### Print multiple variables"
   ]
  },
  {
   "cell_type": "code",
   "execution_count": null,
   "metadata": {},
   "outputs": [],
   "source": [
    "first = \"Marcus\"\n",
    "last = \"Aurelius\"\n",
    "print(\"My name is\", first, last)"
   ]
  },
  {
   "cell_type": "code",
   "execution_count": null,
   "metadata": {},
   "outputs": [],
   "source": [
    " for i in range(3):\n",
    "    print(i, \"My name is\", first, last)"
   ]
  },
  {
   "cell_type": "code",
   "execution_count": null,
   "metadata": {},
   "outputs": [],
   "source": [
    "print(\"My 'name' is\", first, last, sep = \" \") # separator"
   ]
  },
  {
   "cell_type": "code",
   "execution_count": null,
   "metadata": {},
   "outputs": [],
   "source": [
    "print(\"My name is\", first, last)\n",
    "print(\"ABC\")"
   ]
  },
  {
   "cell_type": "code",
   "execution_count": null,
   "metadata": {},
   "outputs": [],
   "source": [
    "print(\"My name is\", first, last, end = \" \")\n",
    "print(\"ABC\")"
   ]
  },
  {
   "cell_type": "code",
   "execution_count": null,
   "metadata": {},
   "outputs": [],
   "source": []
  },
  {
   "cell_type": "code",
   "execution_count": null,
   "metadata": {},
   "outputs": [],
   "source": [
    "x = int(input())"
   ]
  },
  {
   "cell_type": "code",
   "execution_count": null,
   "metadata": {},
   "outputs": [],
   "source": [
    "print(x * 3)"
   ]
  },
  {
   "cell_type": "code",
   "execution_count": null,
   "metadata": {},
   "outputs": [],
   "source": [
    "type(x)"
   ]
  },
  {
   "cell_type": "markdown",
   "metadata": {
    "tags": []
   },
   "source": [
    "### Operators\n",
    "https://en.wikibooks.org/wiki/Python_Programming/Basic_Math"
   ]
  },
  {
   "cell_type": "code",
   "execution_count": null,
   "metadata": {},
   "outputs": [],
   "source": [
    "x = 10\n",
    "y = 4\n",
    "x % y"
   ]
  },
  {
   "cell_type": "code",
   "execution_count": null,
   "metadata": {},
   "outputs": [],
   "source": [
    "# Calculate mass of water molecule and output it\n",
    "# to console\n",
    "h2oOxygens = 1\n",
    "h2oHydrogens = 2\n",
    "oxygenMass = 15.9994\n",
    "hydrogenMass = 1.00794\n",
    "h2oMass = .....\n",
    "print('Molecular weight of H20 = ',h2oMass)\n"
   ]
  }
 ],
 "metadata": {
  "kernelspec": {
   "display_name": "Python 3 (ipykernel)",
   "language": "python",
   "name": "python3"
  },
  "language_info": {
   "codemirror_mode": {
    "name": "ipython",
    "version": 3
   },
   "file_extension": ".py",
   "mimetype": "text/x-python",
   "name": "python",
   "nbconvert_exporter": "python",
   "pygments_lexer": "ipython3",
   "version": "3.9.7"
  }
 },
 "nbformat": 4,
 "nbformat_minor": 4
}
